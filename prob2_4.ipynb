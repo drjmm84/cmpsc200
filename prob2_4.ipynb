{
 "cells": [
  {
   "cell_type": "code",
   "execution_count": 1,
   "metadata": {
    "collapsed": true
   },
   "outputs": [
    {
     "name": "stdout",
     "output_type": "stream",
     "text": [
      "1.4444371298547833e-06\n"
     ]
    }
   ],
   "source": [
    "# test cases:\n",
    "# X = [1 1]; -> z = -0.5134\n",
    "# X = [5 -5]; -> z = 1.4444e-06\n",
    "# X = [3 8]; -> z = -6.4920e-10\n",
    "\n",
    "import numpy\n",
    "\n",
    "\n",
    "def fun_prob2_4(x):\n",
    "    # function phi = prob2_6(n)\n",
    "    # calculates the sum of the first n terms of the golden ratio (only from 1<n<50)\n",
    "    z = -x[0] * x[1] * numpy.exp(-(x[0] ** 2 + x[1] ** 2) / 3)\n",
    "    return z\n",
    "\n",
    "\n",
    "X = numpy.array([5, -5])\n",
    "Z = fun_prob2_4(X)\n",
    "print(Z)\n",
    "\n"
   ]
  }
 ],
 "metadata": {
  "kernelspec": {
   "display_name": "Python 3",
   "language": "python",
   "name": "python3"
  },
  "language_info": {
   "codemirror_mode": {
    "name": "ipython",
    "version": 2
   },
   "file_extension": ".py",
   "mimetype": "text/x-python",
   "name": "python",
   "nbconvert_exporter": "python",
   "pygments_lexer": "ipython2",
   "version": "2.7.6"
  }
 },
 "nbformat": 4,
 "nbformat_minor": 0
}