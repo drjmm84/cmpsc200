{
 "cells": [
  {
   "cell_type": "code",
   "execution_count": 1,
   "metadata": {
    "collapsed": true
   },
   "outputs": [
    {
     "name": "stdout",
     "output_type": "stream",
     "text": [
      "[236 189 286 347 204 344 280  47 495 436 490  41 491  59  13 496 206]\n",
      "[ 13  41  47  59 189 204 206 236 280 286 344 347 436 490 491 495 496]\n"
     ]
    }
   ],
   "source": [
    "import numpy\n",
    "\n",
    "\n",
    "def fun_prob3_7(x):\n",
    "    # def y = prob3_1(x)\n",
    "    # sort a list of numbers in ascending order\n",
    "    flag: bool\n",
    "    flag = False\n",
    "    while flag is False:\n",
    "        flag = True\n",
    "        for k in range(1, len(x)):\n",
    "            if x[k] < x[k - 1]:\n",
    "                tmp = x[k]\n",
    "                x[k] = x[k - 1]\n",
    "                x[k - 1] = tmp\n",
    "                flag = False\n",
    "    return x\n",
    "\n",
    "\n",
    "X = numpy.random.randint(1, 512, (1, numpy.random.randint(12, 25)))\n",
    "X = X[0]\n",
    "print(X)\n",
    "Y = fun_prob3_7(X)\n",
    "print(Y)\n",
    "\n"
   ]
  }
 ],
 "metadata": {
  "kernelspec": {
   "display_name": "Python 3",
   "language": "python",
   "name": "python3"
  },
  "language_info": {
   "codemirror_mode": {
    "name": "ipython",
    "version": 2
   },
   "file_extension": ".py",
   "mimetype": "text/x-python",
   "name": "python",
   "nbconvert_exporter": "python",
   "pygments_lexer": "ipython2",
   "version": "2.7.6"
  }
 },
 "nbformat": 4,
 "nbformat_minor": 0
}