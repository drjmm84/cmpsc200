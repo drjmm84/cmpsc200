{
 "cells": [
  {
   "cell_type": "code",
   "execution_count": 3,
   "metadata": {
    "collapsed": true
   },
   "outputs": [
    {
     "name": "stdout",
     "output_type": "stream",
     "text": [
      "1.618034154176712\n"
     ]
    }
   ],
   "source": [
    "# test cases:\n",
    "# N = 5 -> phi = 1.618034154176712\n",
    "# N= 10 -> phi = 1.618033988674355\n",
    "# N= 50 -> phi = 1.618033988749895\n",
    "\n",
    "import math\n",
    "\n",
    "\n",
    "def prob2_6(n):\n",
    "    # function phi = prob2_6(n)\n",
    "    # calculates the sum of the first n terms of the golden ratio (only from 1<n<50)\n",
    "    phi: float\n",
    "    phi = 13 / 8.0\n",
    "    k: int\n",
    "    for k in range(0, n+1):\n",
    "        phi = phi + (((-1) ** (k + 1)) * math.factorial(2 * k + 1)) / (\n",
    "                math.factorial(k + 2) * math.factorial(k) * (4 ** (2 * k + 3)))\n",
    "    return phi\n",
    "\n",
    "\n",
    "N: int\n",
    "PHI: float\n",
    "N = 5\n",
    "PHI = prob2_6(N)\n",
    "print(PHI)\n",
    "\n"
   ]
  }
 ],
 "metadata": {
  "kernelspec": {
   "display_name": "Python 3",
   "language": "python",
   "name": "python3"
  },
  "language_info": {
   "codemirror_mode": {
    "name": "ipython",
    "version": 2
   },
   "file_extension": ".py",
   "mimetype": "text/x-python",
   "name": "python",
   "nbconvert_exporter": "python",
   "pygments_lexer": "ipython2",
   "version": "2.7.6"
  }
 },
 "nbformat": 4,
 "nbformat_minor": 0
}