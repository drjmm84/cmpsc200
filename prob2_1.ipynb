{
 "cells": [
  {
   "cell_type": "code",
   "execution_count": 1,
   "metadata": {
    "pycharm": {
     "name": "#%%\n"
    }
   },
   "outputs": [
    {
     "name": "stdout",
     "output_type": "stream",
     "text": [
      "[500.  620.1 730.4]\n"
     ]
    }
   ],
   "source": [
    "# test cases:\n",
    "# T = numpy.array([0.0, 1.0, 2.0]) -> H = [500.  620.1 730.4]\n",
    "# T = numpy.array([10.0, 20.0, 30.0]) -> H = [1260. 1040. -160.]\n",
    "\n",
    "import numpy\n",
    "\n",
    "\n",
    "def fun_prob2_1(t):\n",
    "    # function h = fun_prob2_1(t)\n",
    "    # calculates vector h in meters given a vector t in seconds\n",
    "    h = -9.8 / 2 * (t ** 2) + 125 * t + 500\n",
    "    return h\n",
    "\n",
    "\n",
    "T = numpy.array([0.0, 1.0, 2.0])\n",
    "H = fun_prob2_1(T)\n",
    "print(H)"
   ]
  }
 ],
 "metadata": {
  "kernelspec": {
   "display_name": "Python 3",
   "language": "python",
   "name": "python3"
  },
  "language_info": {
   "codemirror_mode": {
    "name": "ipython",
    "version": 3
   },
   "file_extension": ".py",
   "mimetype": "text/x-python",
   "name": "python",
   "nbconvert_exporter": "python",
   "pygments_lexer": "ipython3",
   "version": "3.7.6"
  }
 },
 "nbformat": 4,
 "nbformat_minor": 4
}