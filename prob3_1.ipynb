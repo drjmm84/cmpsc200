{
 "cells": [
  {
   "cell_type": "code",
   "execution_count": 1,
   "metadata": {
    "collapsed": true
   },
   "outputs": [
    {
     "name": "stdout",
     "output_type": "stream",
     "text": [
      "(4, 342)\n"
     ]
    }
   ],
   "source": [
    "# test cases:\n",
    "# X = [19, 79, 20, 100, 81, 43] -> c = 4, s = 342\n",
    "# X = [92, 20, 44, 75, 4, 95, 77, 56, 19] -> c = 6, s = 482\n",
    "\n",
    "\n",
    "def fun_prob3_1(x):\n",
    "    # def [c, s] = fun_prob3_1(x)\n",
    "    # takes a vector of integers, x, and calculates the number of elements\n",
    "    # strictly greater than 30 (c) and the sum of all elements\n",
    "    c: int\n",
    "    s: int\n",
    "    c = 0\n",
    "    s = 0\n",
    "    for k in range(0, len(x)):\n",
    "        if x[k] > 30:\n",
    "            c = c + 1\n",
    "        s = s + x[k]\n",
    "    return c, s\n",
    "\n",
    "\n",
    "X = [19, 79, 20, 100, 81, 43]\n",
    "Z = fun_prob3_1(X)\n",
    "print(Z)\n",
    "\n"
   ]
  }
 ],
 "metadata": {
  "kernelspec": {
   "display_name": "Python 3",
   "language": "python",
   "name": "python3"
  },
  "language_info": {
   "codemirror_mode": {
    "name": "ipython",
    "version": 2
   },
   "file_extension": ".py",
   "mimetype": "text/x-python",
   "name": "python",
   "nbconvert_exporter": "python",
   "pygments_lexer": "ipython2",
   "version": "2.7.6"
  }
 },
 "nbformat": 4,
 "nbformat_minor": 0
}