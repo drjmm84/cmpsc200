{
 "cells": [
  {
   "cell_type": "code",
   "execution_count": 1,
   "metadata": {
    "collapsed": true
   },
   "outputs": [
    {
     "name": "stdout",
     "output_type": "stream",
     "text": [
      "[0.26726124 0.53452248 0.80178373]\n"
     ]
    }
   ],
   "source": [
    "# test cases:\n",
    "# r = [1 2 3]; -> u = [0.2673 0.5345 0.8018]\n",
    "# r = [-5 0 7]; -> u = [-0.5812 0 0.8137]\n",
    "# r = [9 -2 -4]; -> u = [0.8955 -0.1990 -0.3980]\n",
    "\n",
    "import numpy\n",
    "\n",
    "\n",
    "def prob2_5(r):\n",
    "    # function phi = prob2_6(n)\n",
    "    # calculates the sum of the first n terms of the golden ratio (only from 1<n<50)\n",
    "    mag = numpy.sqrt(numpy.sum(R ** 2))\n",
    "    u = r / mag\n",
    "    return u\n",
    "\n",
    "\n",
    "R = numpy.array([1, 2, 3])\n",
    "U = prob2_5(R)\n",
    "print(U)\n",
    "\n"
   ]
  }
 ],
 "metadata": {
  "kernelspec": {
   "display_name": "Python 3",
   "language": "python",
   "name": "python3"
  },
  "language_info": {
   "codemirror_mode": {
    "name": "ipython",
    "version": 2
   },
   "file_extension": ".py",
   "mimetype": "text/x-python",
   "name": "python",
   "nbconvert_exporter": "python",
   "pygments_lexer": "ipython2",
   "version": "2.7.6"
  }
 },
 "nbformat": 4,
 "nbformat_minor": 0
}