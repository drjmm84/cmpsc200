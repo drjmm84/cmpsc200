{
 "cells": [
  {
   "cell_type": "code",
   "execution_count": 1,
   "metadata": {
    "collapsed": true
   },
   "outputs": [
    {
     "name": "stdout",
     "output_type": "stream",
     "text": [
      "[2000, 5400.0, 9140.0, 13254.0, 17779.4, 22757.340000000004]\n"
     ]
    }
   ],
   "source": [
    "# p=1000; c=2500; r=0.05; n=5; -> v = [1000, 3550.0, 6227.5, 9038.875, 11990.81875]\n",
    "# p=2000; c=3200; r=0.1; n=6; -> v = [2000.00 5400.00 9140.00 13254.00 17779.40 22757.34]\n",
    "\n",
    "\n",
    "def ira(p, c, r, n):\n",
    "    v = [p]\n",
    "    for k in range(1, n):\n",
    "        v.append(v[k - 1] * (1 + r) + c)\n",
    "    return v\n",
    "\n",
    "\n",
    "P = 2000  # principal\n",
    "C = 3200  # contribution\n",
    "R = 0.10  # return rate\n",
    "N = 6  # number of years\n",
    "V = ira(P, C, R, N)\n",
    "print(V)\n",
    "\n"
   ]
  }
 ],
 "metadata": {
  "kernelspec": {
   "display_name": "Python 3",
   "language": "python",
   "name": "python3"
  },
  "language_info": {
   "codemirror_mode": {
    "name": "ipython",
    "version": 2
   },
   "file_extension": ".py",
   "mimetype": "text/x-python",
   "name": "python",
   "nbconvert_exporter": "python",
   "pygments_lexer": "ipython2",
   "version": "2.7.6"
  }
 },
 "nbformat": 4,
 "nbformat_minor": 0
}