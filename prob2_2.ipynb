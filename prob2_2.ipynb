{
 "cells": [
  {
   "cell_type": "code",
   "execution_count": 1,
   "metadata": {
    "collapsed": true
   },
   "outputs": [
    {
     "name": "stdout",
     "output_type": "stream",
     "text": [
      "[4.01295167e-13 2.53189061e-13 2.00647583e-13 1.72828421e-13]\n"
     ]
    }
   ],
   "source": [
    "# test cases:\n",
    "# L=1e-2; r = 1e-3; d = numpy.array([3e-3, 4e-3, 5e-3, 6e-3]); -> C = [4.01295167e-13 2.53189061e-13 2.00647583e-13 1.72828421e-13]\n",
    "# L=1.5e-2; r = 1.6e-3; d = [4e-3 5e-3 6e-3 7e-3]; -> C = [1.0290e-012   553.5295e-015   412.4501e-015   343.0093e-015]\n",
    "\n",
    "import numpy\n",
    "\n",
    "\n",
    "# import math\n",
    "\n",
    "\n",
    "def fun_prob2_2(L, d, r):\n",
    "    # function C = prob2_2(L,d,r)\n",
    "    # calculate vector C in Fareds, given scalar L in meters, vector d in meters\n",
    "    # and scalar r in meters\n",
    "    c = (numpy.pi * 8.854e-12 * L) / (numpy.log((d - r) / r))\n",
    "    return c\n",
    "\n",
    "\n",
    "L = 1e-2\n",
    "R = 1e-3\n",
    "D = numpy.array([3e-3, 4e-3, 5e-3, 6e-3])\n",
    "\n",
    "C = fun_prob2_2(L, D, R)\n",
    "print(C)\n",
    "\n"
   ]
  }
 ],
 "metadata": {
  "kernelspec": {
   "display_name": "Python 3",
   "language": "python",
   "name": "python3"
  },
  "language_info": {
   "codemirror_mode": {
    "name": "ipython",
    "version": 2
   },
   "file_extension": ".py",
   "mimetype": "text/x-python",
   "name": "python",
   "nbconvert_exporter": "python",
   "pygments_lexer": "ipython2",
   "version": "2.7.6"
  }
 },
 "nbformat": 4,
 "nbformat_minor": 0
}