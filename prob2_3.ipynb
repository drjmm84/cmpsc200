{
 "cells": [
  {
   "cell_type": "code",
   "execution_count": 1,
   "metadata": {
    "collapsed": true
   },
   "outputs": [
    {
     "name": "stdout",
     "output_type": "stream",
     "text": [
      "[9.85995017e+08 9.71980133e+08 9.57955447e+08 9.43921056e+08\n",
      " 9.29877058e+08]\n"
     ]
    }
   ],
   "source": [
    "# test cases:\n",
    "# r = 1.5e7; t=[1:5]; -> V = [9.85995017e+08 9.71980133e+08 9.57955447e+08 9.43921056e+08 9.29877058e+08]\n",
    "# r = 2.3e7; t=[30:35]; -> V = 1.0e+08 *[3.3592 3.1366 2.9139 2.6911 2.4682 2.2453]\n",
    "\n",
    "import numpy\n",
    "\n",
    "\n",
    "def fun_prob2_3(r, t):\n",
    "    # function V = prob2_3(r,t)\n",
    "    # calculate vector V in L, given scalar r in L/day and vector t in days\n",
    "    v = 10 ** 9 + (10 ** 8) * (1 - numpy.exp(-t / 100))-r * t\n",
    "    return v\n",
    "\n",
    "\n",
    "R = 1.5e7\n",
    "T = numpy.array(range(1, 5 + 1, 1))\n",
    "\n",
    "V = fun_prob2_3(R, T)\n",
    "print(V)\n",
    "\n"
   ]
  }
 ],
 "metadata": {
  "kernelspec": {
   "display_name": "Python 3",
   "language": "python",
   "name": "python3"
  },
  "language_info": {
   "codemirror_mode": {
    "name": "ipython",
    "version": 2
   },
   "file_extension": ".py",
   "mimetype": "text/x-python",
   "name": "python",
   "nbconvert_exporter": "python",
   "pygments_lexer": "ipython2",
   "version": "2.7.6"
  }
 },
 "nbformat": 4,
 "nbformat_minor": 0
}